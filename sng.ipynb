{
 "cells": [
  {
   "cell_type": "code",
   "execution_count": 3,
   "metadata": {},
   "outputs": [
    {
     "data": {
      "text/plain": [
       "['Winning Poker Network Game #1081326940: No Limit Holdem (25/50) [2017/12/22 17:59:45 UTC]',\n",
       " 'Table: $10 Regular 9-Max, Table 1',\n",
       " 'Tournament: 8140214',\n",
       " 'Seats: 9',\n",
       " 'Seat 1: W1renut (1,439)',\n",
       " 'Seat 2: Truck1536 (3,141)',\n",
       " 'Seat 3: allegro88 (1,670)',\n",
       " 'Seat 5: unclepete55 (1,721)',\n",
       " 'Seat 6: Cutch123 (1,310)',\n",
       " 'Seat 7: cobblestoner (1,201)',\n",
       " 'Seat 8: otlichno (1,215)',\n",
       " 'Seat 9: O.G. SKARFINGER (1,803)',\n",
       " 'Button is seat 8',\n",
       " 'O.G. SKARFINGER: posts small blind 25',\n",
       " 'W1renut: posts big blind 50',\n",
       " '*** HOLE CARDS ***',\n",
       " 'unclepete55: dealt [Qh Qs]',\n",
       " 'Truck1536: folds',\n",
       " 'allegro88: folds',\n",
       " 'unclepete55: calls 50',\n",
       " 'Cutch123: folds',\n",
       " 'cobblestoner: folds',\n",
       " 'otlichno: raises 200',\n",
       " 'O.G. SKARFINGER: folds',\n",
       " 'W1renut: raises 300',\n",
       " 'unclepete55: folds',\n",
       " 'otlichno: raises all-in 1,015',\n",
       " 'W1renut: calls 865',\n",
       " '*** FLOP *** [Qc Ah 8s]',\n",
       " '*** TURN *** [Qc Ah 8s] [3h]',\n",
       " '*** RIVER *** [Qc Ah 8s] [3h] [2h]',\n",
       " '*** SUMMARY ***',\n",
       " 'Pot: 2,505 | Rake: 0 |',\n",
       " 'Board: [Qc Ah 8s 3h 2h]',\n",
       " 'Seat 1: W1renut lost -1,215 [Ks Ad] One Pair, Aces',\n",
       " \"Seat 2: Truck1536 didn't bet\",\n",
       " \"Seat 3: allegro88 didn't bet\",\n",
       " 'Seat 5: unclepete55 lost -50',\n",
       " \"Seat 6: Cutch123 didn't bet\",\n",
       " \"Seat 7: cobblestoner didn't bet\",\n",
       " 'Seat 8: otlichno won 2,505 (+1,290) [8c 8d] Three of a Kind, Eights',\n",
       " 'Seat 9: O.G. SKARFINGER lost -25']"
      ]
     },
     "execution_count": 3,
     "metadata": {},
     "output_type": "execute_result"
    }
   ],
   "source": [
    "import numpy as np\n",
    "import pandas as pd\n",
    "\n",
    "# read in hh using list comprehension\n",
    "hh = [line.rstrip('\\n') for line in open('hh.txt')]\n",
    "# display first 10 list items\n",
    "hh"
   ]
  },
  {
   "cell_type": "code",
   "execution_count": 2,
   "metadata": {},
   "outputs": [
    {
     "data": {
      "text/plain": [
       "5    3141\n",
       "4    1670\n",
       "3    1721\n",
       "2    1310\n",
       "1    1201\n",
       "0    1215\n",
       "9    1803\n",
       "8    1439\n",
       "dtype: int64"
      ]
     },
     "execution_count": 2,
     "metadata": {},
     "output_type": "execute_result"
    }
   ],
   "source": [
    "def get_stacks():\n",
    "    # line.split()[1] is a string that i slice the first char with [:1]\n",
    "    seats = [line.split()[1][:1] for line in hh if '(' in line]\n",
    "    # convert seats to int and drop first and last items in seats list\n",
    "    seats = [int(seat) for seat in seats[1:-1]]\n",
    "    \n",
    "    stacks = [line.split()[-1] for line in hh if '(' in line]\n",
    "    # drop parenthesis on each stack and drop the comma and convert stack to int\n",
    "    stacks = [int(stack[1:-1].replace(',', '')) for stack in stacks[1:-1]]\n",
    "    \n",
    "    # identify which seat is the button\n",
    "    # note this list comprehension only returns a one element list which I extract\n",
    "    btn = [int(line.split()[-1]) for line in hh if 'Button is seat ' in line][0]\n",
    "    \n",
    "    index_btn = seats.index(btn)\n",
    "    \n",
    "    # create position list in appropriate deal order for 9 players PT4 convention\n",
    "    pos = [6,5,4,3,2,1,0,9,8]\n",
    "    pos = pos[9-len(stacks):]\n",
    "    num_stacks = len(stacks)\n",
    "    # repeat list to create a window\n",
    "    stacks1 = (stacks * 2)[index_btn:index_btn+num_stacks]\n",
    "    # join stacks to match deal order and positions\n",
    "    stacks2 = stacks1[3:] + stacks1[:3]\n",
    "    s = pd.Series(stacks2, index = pos)\n",
    "    \n",
    "    return s\n",
    "\n",
    "\n",
    "get_stacks()"
   ]
  },
  {
   "cell_type": "code",
   "execution_count": 8,
   "metadata": {},
   "outputs": [
    {
     "data": {
      "text/plain": [
       "50"
      ]
     },
     "execution_count": 8,
     "metadata": {},
     "output_type": "execute_result"
    }
   ],
   "source": [
    "def get_bb():\n",
    "    bb = [int(line.split()[-1]) for line in hh if 'posts big blind' in line][0]\n",
    "    return bb\n",
    "\n",
    "get_bb()"
   ]
  },
  {
   "cell_type": "code",
   "execution_count": 10,
   "metadata": {},
   "outputs": [
    {
     "data": {
      "text/plain": [
       "25"
      ]
     },
     "execution_count": 10,
     "metadata": {},
     "output_type": "execute_result"
    }
   ],
   "source": [
    "def get_sb():\n",
    "    sb = [int(line.split()[-1]) for line in hh if 'posts small blind' in line][0]\n",
    "    return sb\n",
    "\n",
    "get_sb()"
   ]
  }
 ],
 "metadata": {
  "kernelspec": {
   "display_name": "Python 3",
   "language": "python",
   "name": "python3"
  },
  "language_info": {
   "codemirror_mode": {
    "name": "ipython",
    "version": 3
   },
   "file_extension": ".py",
   "mimetype": "text/x-python",
   "name": "python",
   "nbconvert_exporter": "python",
   "pygments_lexer": "ipython3",
   "version": "3.6.5"
  }
 },
 "nbformat": 4,
 "nbformat_minor": 2
}
